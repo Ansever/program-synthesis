{
 "cells": [
  {
   "cell_type": "markdown",
   "id": "e5d274ef",
   "metadata": {},
   "source": [
    "# Model experiments for Animals classification"
   ]
  },
  {
   "cell_type": "markdown",
   "id": "71278345",
   "metadata": {},
   "source": []
  }
 ],
 "metadata": {
  "language_info": {
   "name": "python"
  }
 },
 "nbformat": 4,
 "nbformat_minor": 5
}
